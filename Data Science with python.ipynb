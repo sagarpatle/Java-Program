{
 "cells": [
  {
   "cell_type": "code",
   "execution_count": 1,
   "id": "9d3dc6ff",
   "metadata": {},
   "outputs": [
    {
     "name": "stdout",
     "output_type": "stream",
     "text": [
      "One dimensional array :\n",
      "[0 1 2 3 4]\n",
      "\n",
      " Two Dimensional array:\n",
      "[[0 1 2 3 4]\n",
      " [5 6 7 8 9]]\n",
      "0 : 0 \n",
      "1 : 1 \n",
      "2 : 2 \n",
      "3 : 3 \n",
      "4 : 4 \n",
      "0 : 5 \n",
      "1 : 6 \n",
      "2 : 7 \n",
      "3 : 8 \n",
      "4 : 9 \n"
     ]
    }
   ],
   "source": [
    "# Q1. Write a code to combine a one a two diamesional NumPy Array\n",
    "import numpy as np\n",
    "arr1=np.arange(5)\n",
    "print(\"One dimensional array :\")\n",
    "print(arr1)\n",
    "\n",
    "arr2=np.arange(10).reshape(2,5)\n",
    "print(\"\\n Two Dimensional array:\")\n",
    "print(arr2)\n",
    "\n",
    "for a,b in np.nditer ([arr1, arr2]) :\n",
    "    print(\"%d : %d \"  %(a,b) , )"
   ]
  },
  {
   "cell_type": "code",
   "execution_count": 2,
   "id": "b7fbd5f3",
   "metadata": {},
   "outputs": [
    {
     "name": "stdout",
     "output_type": "stream",
     "text": [
      "Given Array:\n",
      "[[2 3 0]\n",
      " [4 1 6]]\n",
      "True\n",
      "True\n",
      "True\n",
      "False\n"
     ]
    }
   ],
   "source": [
    "# Q2 Write a code to check  whether a NumPy array contain a spacified row \n",
    "\n",
    "import numpy as np\n",
    "arr=np.array([[2, 3, 0],\n",
    "             [4, 1, 6]])\n",
    "print(\"Given Array:\")\n",
    "print(arr)\n",
    "print(2 in arr)\n",
    "print(0  in arr)\n",
    "print(6 in arr)\n",
    "print(40  in arr)"
   ]
  },
  {
   "cell_type": "code",
   "execution_count": 4,
   "id": "65a1e2ee",
   "metadata": {},
   "outputs": [
    {
     "name": "stdout",
     "output_type": "stream",
     "text": [
      "     Name  Score  Attempts Quality\n",
      "a   Sagar   20.5         1     Yes\n",
      "b    Ajay    9.0         3      no\n",
      "c     Ram   16.5         2     yes\n",
      "d    sonu    NaN         3      no\n",
      "e   Rohan    9.0         2      no\n",
      "f   kevin   20.0         2     yes\n",
      "g   Rahul   14.5         1     yes\n",
      "h   salim    NaN         1      no\n",
      "i  vidhya   18.0         2     yes\n",
      "j   ravin   19.0         1     yes\n"
     ]
    }
   ],
   "source": [
    "# Q3 Write a Pandas code to createb and display a DataFrame form a spacified dictionary data which has the index lables\n",
    "import pandas as pd\n",
    "import numpy as np\n",
    "exam_data={\"Name\": [\"Sagar\", \"Ajay\", \"Ram\", \"sonu\", \"Rohan\",\"kevin\",\"Rahul\",\"salim\",\"vidhya\", \"ravin\"],\n",
    "           \"Score\": [20.5,9,16.5,np.nan,9,20,14.5, np.nan,18,19],\n",
    "           \"Attempts\": [1,3,2,3,2,2,1,1,2,1],\n",
    "           \"Quality\": ['Yes','no','yes','no','no','yes','yes','no','yes','yes']}\n",
    "\n",
    "lables=['a','b','c','d','e','f','g','h','i','j']\n",
    "df=pd.DataFrame(exam_data , index=lables)\n",
    "print(df)\n",
    "          "
   ]
  },
  {
   "cell_type": "code",
   "execution_count": 5,
   "id": "2b29a154",
   "metadata": {},
   "outputs": [
    {
     "name": "stdout",
     "output_type": "stream",
     "text": [
      "  Category  Marks\n",
      "0    Array     20\n",
      "1    stack     21\n",
      "2    Queue     19\n"
     ]
    }
   ],
   "source": [
    "# Q4 Writr a pandas code to create DataFRame form dict/lists\n",
    "import pandas as pd\n",
    "data={'Category' : ['Array', 'stack','Queue'],\n",
    "     'Marks' : [20,21,19]\n",
    "     }\n",
    "df=pd.DataFrame(data)\n",
    "print(df)"
   ]
  },
  {
   "cell_type": "code",
   "execution_count": 6,
   "id": "2106412d",
   "metadata": {},
   "outputs": [
    {
     "name": "stdout",
     "output_type": "stream",
     "text": [
      "    Name  Age\n",
      "0  Geeks   10\n",
      "1    For   15\n"
     ]
    }
   ],
   "source": [
    "# Q5 Write a pandas code to create pandas dataframe using list of lists\n",
    "import pandas as pd\n",
    "data=[ ['Geeks',10], ['For',15]]\n",
    "df=pd.DataFrame(data, columns=['Name','Age'])\n",
    "print(df)"
   ]
  },
  {
   "cell_type": "code",
   "execution_count": null,
   "id": "cba580c1",
   "metadata": {},
   "outputs": [],
   "source": []
  }
 ],
 "metadata": {
  "kernelspec": {
   "display_name": "Python 3 (ipykernel)",
   "language": "python",
   "name": "python3"
  },
  "language_info": {
   "codemirror_mode": {
    "name": "ipython",
    "version": 3
   },
   "file_extension": ".py",
   "mimetype": "text/x-python",
   "name": "python",
   "nbconvert_exporter": "python",
   "pygments_lexer": "ipython3",
   "version": "3.9.12"
  }
 },
 "nbformat": 4,
 "nbformat_minor": 5
}
